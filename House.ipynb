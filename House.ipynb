{
 "cells": [
  {
   "cell_type": "code",
   "execution_count": null,
   "id": "5c3e930b",
   "metadata": {},
   "outputs": [],
   "source": [
    "# Step 1 - Importing required libraries\n",
    "import pandas as pd\n",
    "import numpy as np\n",
    "import matplotlib.pyplot as plt\n",
    "import seaborn as sns\n",
    "from sklearn.preprocessing import StandardScaler\n",
    "from sklearn.model_selection import train_test_split\n",
    "from sklearn.linear_model import LinearRegression\n",
    "from sklearn.metrics import r2_score\n",
    "\n",
    "# Step 2 - Reading input data\n",
    "customers = pd.read_csv('Housing.csv')\n",
    "\n",
    "# Step 3 - Describing data\n",
    "print(customers.describe())\n",
    "\n",
    "# Step 4 - Analyzing information from data\n",
    "print(customers.info())\n",
    "\n",
    "# Step 5 - Visualizing data\n",
    "sns.pairplot(customers)\n",
    "plt.show()\n",
    "\n",
    "# Step 6 - Scaling data\n",
    "scaler = StandardScaler()\n",
    "X = customers.drop(['Price', 'Address'], axis=1)\n",
    "y = customers['Price']\n",
    "cols = X.columns\n",
    "X = scaler.fit_transform(X)\n",
    "\n",
    "# Step 7 - Splitting data\n",
    "X_train, X_test, y_train, y_test = train_test_split(X, y, test_size=0.3, random_state=101)\n",
    "\n",
    "# Step 8 - Training the Linear Regression model\n",
    "lr = LinearRegression()\n",
    "lr.fit(X_train, y_train)\n",
    "pred = lr.predict(X_test)\n",
    "\n",
    "# Evaluate model\n",
    "print(f\"R2 Score: {r2_score(y_test, pred)}\")\n",
    "\n",
    "# Step 9 - Visualizing predictions\n",
    "sns.scatterplot(x=y_test, y=pred)\n",
    "plt.xlabel('True Values')\n",
    "plt.ylabel('Predictions')\n",
    "plt.show()\n",
    "\n",
    "# Step 10 - Plotting residuals\n",
    "sns.histplot((y_test - pred), bins=50, kde=True)\n",
    "plt.xlabel('Residuals')\n",
    "plt.show()\n",
    "\n",
    "# Step 11 - Observing coefficients\n",
    "cdf = pd.DataFrame(lr.coef_, cols, ['Coefficients']).sort_values('Coefficients', ascending=False)\n",
    "print(cdf)\n"
   ]
  }
 ],
 "metadata": {
  "kernelspec": {
   "display_name": "Python 3 (ipykernel)",
   "language": "python",
   "name": "python3"
  },
  "language_info": {
   "codemirror_mode": {
    "name": "ipython",
    "version": 3
   },
   "file_extension": ".py",
   "mimetype": "text/x-python",
   "name": "python",
   "nbconvert_exporter": "python",
   "pygments_lexer": "ipython3",
   "version": "3.9.13"
  }
 },
 "nbformat": 4,
 "nbformat_minor": 5
}
